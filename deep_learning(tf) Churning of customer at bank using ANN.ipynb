{
 "cells": [
  {
   "cell_type": "code",
   "execution_count": 1,
   "metadata": {},
   "outputs": [],
   "source": [
    "import tensorflow as tf"
   ]
  },
  {
   "cell_type": "code",
   "execution_count": 2,
   "metadata": {},
   "outputs": [],
   "source": [
    "import numpy as np\n",
    "import pandas as pd"
   ]
  },
  {
   "cell_type": "code",
   "execution_count": 3,
   "metadata": {},
   "outputs": [
    {
     "data": {
      "text/plain": [
       "'2.1.0'"
      ]
     },
     "execution_count": 3,
     "metadata": {},
     "output_type": "execute_result"
    }
   ],
   "source": [
    "tf.__version__"
   ]
  },
  {
   "cell_type": "code",
   "execution_count": 5,
   "metadata": {},
   "outputs": [],
   "source": [
    "dataset = pd.read_csv('Churn_Modelling.csv')\n",
    "X=dataset.iloc[:,3:-1].values\n",
    "Y=dataset.iloc[:,-1].values"
   ]
  },
  {
   "cell_type": "code",
   "execution_count": 6,
   "metadata": {},
   "outputs": [
    {
     "name": "stdout",
     "output_type": "stream",
     "text": [
      "[[619 'France' 'Female' ... 1 1 101348.88]\n",
      " [608 'Spain' 'Female' ... 0 1 112542.58]\n",
      " [502 'France' 'Female' ... 1 0 113931.57]\n",
      " ...\n",
      " [709 'France' 'Female' ... 0 1 42085.58]\n",
      " [772 'Germany' 'Male' ... 1 0 92888.52]\n",
      " [792 'France' 'Female' ... 1 0 38190.78]]\n"
     ]
    }
   ],
   "source": [
    "print(X)"
   ]
  },
  {
   "cell_type": "code",
   "execution_count": 7,
   "metadata": {},
   "outputs": [
    {
     "name": "stdout",
     "output_type": "stream",
     "text": [
      "[1 0 1 ... 1 1 0]\n"
     ]
    }
   ],
   "source": [
    "print(Y)"
   ]
  },
  {
   "cell_type": "markdown",
   "metadata": {},
   "source": [
    "### Encoding "
   ]
  },
  {
   "cell_type": "code",
   "execution_count": 8,
   "metadata": {},
   "outputs": [],
   "source": [
    "from sklearn.preprocessing import LabelEncoder\n",
    "le = LabelEncoder()\n",
    "X[:,2]= le.fit_transform(X[:,2])"
   ]
  },
  {
   "cell_type": "code",
   "execution_count": 9,
   "metadata": {},
   "outputs": [
    {
     "name": "stdout",
     "output_type": "stream",
     "text": [
      "[[619 'France' 0 ... 1 1 101348.88]\n",
      " [608 'Spain' 0 ... 0 1 112542.58]\n",
      " [502 'France' 0 ... 1 0 113931.57]\n",
      " ...\n",
      " [709 'France' 0 ... 0 1 42085.58]\n",
      " [772 'Germany' 1 ... 1 0 92888.52]\n",
      " [792 'France' 0 ... 1 0 38190.78]]\n"
     ]
    }
   ],
   "source": [
    "print(X)"
   ]
  },
  {
   "cell_type": "markdown",
   "metadata": {},
   "source": [
    "### One hot encoding"
   ]
  },
  {
   "cell_type": "code",
   "execution_count": 10,
   "metadata": {},
   "outputs": [],
   "source": [
    "from sklearn.compose import ColumnTransformer\n",
    "from sklearn.preprocessing import OneHotEncoder\n",
    "ct = ColumnTransformer(transformers=[('encoder', OneHotEncoder(), [1])], remainder='passthrough')\n",
    "X = np.array(ct.fit_transform(X))"
   ]
  },
  {
   "cell_type": "code",
   "execution_count": 11,
   "metadata": {},
   "outputs": [
    {
     "data": {
      "text/plain": [
       "array([[1.0, 0.0, 0.0, ..., 1, 1, 101348.88],\n",
       "       [0.0, 0.0, 1.0, ..., 0, 1, 112542.58],\n",
       "       [1.0, 0.0, 0.0, ..., 1, 0, 113931.57],\n",
       "       ...,\n",
       "       [1.0, 0.0, 0.0, ..., 0, 1, 42085.58],\n",
       "       [0.0, 1.0, 0.0, ..., 1, 0, 92888.52],\n",
       "       [1.0, 0.0, 0.0, ..., 1, 0, 38190.78]], dtype=object)"
      ]
     },
     "execution_count": 11,
     "metadata": {},
     "output_type": "execute_result"
    }
   ],
   "source": [
    "X"
   ]
  },
  {
   "cell_type": "markdown",
   "metadata": {},
   "source": [
    "### splitting data set "
   ]
  },
  {
   "cell_type": "code",
   "execution_count": 12,
   "metadata": {},
   "outputs": [],
   "source": [
    "from sklearn.model_selection import train_test_split\n",
    "X_train, X_test,Y_train,Y_test = train_test_split(X,Y, test_size = 0.2, random_state =0\n",
    "                                                 )"
   ]
  },
  {
   "cell_type": "markdown",
   "metadata": {},
   "source": [
    "### Feature Scaling"
   ]
  },
  {
   "cell_type": "code",
   "execution_count": 13,
   "metadata": {},
   "outputs": [],
   "source": [
    " from sklearn.preprocessing import StandardScaler\n",
    "sc = StandardScaler()\n",
    "X_train= sc.fit_transform(X_train)\n",
    "X_test= sc.transform(X_test)"
   ]
  },
  {
   "cell_type": "markdown",
   "metadata": {},
   "source": [
    "## Building the ANN"
   ]
  },
  {
   "cell_type": "code",
   "execution_count": 17,
   "metadata": {},
   "outputs": [],
   "source": [
    "#initialization of Artificial neural network\n",
    "ann = tf.keras.models.Sequential()"
   ]
  },
  {
   "cell_type": "code",
   "execution_count": 25,
   "metadata": {},
   "outputs": [],
   "source": [
    "#Adding input and the first hidden layer\n",
    "ann.add(tf.keras.layers.Dense(units=8,activation='relu'))"
   ]
  },
  {
   "cell_type": "code",
   "execution_count": 26,
   "metadata": {},
   "outputs": [],
   "source": [
    "#adding the second layer\n",
    "ann.add(tf.keras.layers.Dense(units=8,activation='relu'))"
   ]
  },
  {
   "cell_type": "code",
   "execution_count": 27,
   "metadata": {},
   "outputs": [],
   "source": [
    "#Adding the output layer\n",
    "ann.add(tf.keras.layers.Dense(units=1,activation='sigmoid')) "
   ]
  },
  {
   "cell_type": "markdown",
   "metadata": {},
   "source": [
    "## Training the ANN"
   ]
  },
  {
   "cell_type": "code",
   "execution_count": 28,
   "metadata": {},
   "outputs": [],
   "source": [
    "#compiling the ann\n",
    "ann.compile(optimizer='adam',loss='binary_crossentropy',metrics=['accuracy'])"
   ]
  },
  {
   "cell_type": "code",
   "execution_count": 29,
   "metadata": {},
   "outputs": [
    {
     "name": "stdout",
     "output_type": "stream",
     "text": [
      "Train on 8000 samples\n",
      "Epoch 1/200\n",
      "8000/8000 [==============================] - 1s 134us/sample - loss: 0.6645 - accuracy: 0.7959\n",
      "Epoch 2/200\n",
      "8000/8000 [==============================] - 0s 35us/sample - loss: 0.6191 - accuracy: 0.8594\n",
      "Epoch 3/200\n",
      "8000/8000 [==============================] - 0s 32us/sample - loss: 0.5121 - accuracy: 0.8615\n",
      "Epoch 4/200\n",
      "8000/8000 [==============================] - 0s 31us/sample - loss: 0.4048 - accuracy: 0.8625\n",
      "Epoch 5/200\n",
      "8000/8000 [==============================] - 0s 31us/sample - loss: 0.3638 - accuracy: 0.8624\n",
      "Epoch 6/200\n",
      "8000/8000 [==============================] - 0s 33us/sample - loss: 0.3498 - accuracy: 0.8618\n",
      "Epoch 7/200\n",
      "8000/8000 [==============================] - 0s 34us/sample - loss: 0.3453 - accuracy: 0.8630\n",
      "Epoch 8/200\n",
      "8000/8000 [==============================] - 0s 32us/sample - loss: 0.3438 - accuracy: 0.8626\n",
      "Epoch 9/200\n",
      "8000/8000 [==============================] - 0s 31us/sample - loss: 0.3417 - accuracy: 0.8630\n",
      "Epoch 10/200\n",
      "8000/8000 [==============================] - 0s 32us/sample - loss: 0.3408 - accuracy: 0.8633\n",
      "Epoch 11/200\n",
      "8000/8000 [==============================] - 0s 32us/sample - loss: 0.3400 - accuracy: 0.8624\n",
      "Epoch 12/200\n",
      "8000/8000 [==============================] - 0s 33us/sample - loss: 0.3396 - accuracy: 0.8621\n",
      "Epoch 13/200\n",
      "8000/8000 [==============================] - 0s 32us/sample - loss: 0.3396 - accuracy: 0.8616\n",
      "Epoch 14/200\n",
      "8000/8000 [==============================] - 0s 32us/sample - loss: 0.3391 - accuracy: 0.8618\n",
      "Epoch 15/200\n",
      "8000/8000 [==============================] - 0s 32us/sample - loss: 0.3389 - accuracy: 0.8604\n",
      "Epoch 16/200\n",
      "8000/8000 [==============================] - 0s 34us/sample - loss: 0.3383 - accuracy: 0.8622\n",
      "Epoch 17/200\n",
      "8000/8000 [==============================] - 0s 34us/sample - loss: 0.3384 - accuracy: 0.8604\n",
      "Epoch 18/200\n",
      "8000/8000 [==============================] - 0s 32us/sample - loss: 0.3378 - accuracy: 0.8630\n",
      "Epoch 19/200\n",
      "8000/8000 [==============================] - 0s 32us/sample - loss: 0.3378 - accuracy: 0.8629\n",
      "Epoch 20/200\n",
      "8000/8000 [==============================] - 0s 32us/sample - loss: 0.3383 - accuracy: 0.8615\n",
      "Epoch 21/200\n",
      "8000/8000 [==============================] - 0s 32us/sample - loss: 0.3382 - accuracy: 0.8634\n",
      "Epoch 22/200\n",
      "8000/8000 [==============================] - 0s 32us/sample - loss: 0.3375 - accuracy: 0.8644\n",
      "Epoch 23/200\n",
      "8000/8000 [==============================] - 0s 32us/sample - loss: 0.3373 - accuracy: 0.8648\n",
      "Epoch 24/200\n",
      "8000/8000 [==============================] - 0s 32us/sample - loss: 0.3371 - accuracy: 0.8618\n",
      "Epoch 25/200\n",
      "8000/8000 [==============================] - 0s 33us/sample - loss: 0.3369 - accuracy: 0.8635\n",
      "Epoch 26/200\n",
      "8000/8000 [==============================] - 0s 39us/sample - loss: 0.3375 - accuracy: 0.8602\n",
      "Epoch 27/200\n",
      "8000/8000 [==============================] - 0s 32us/sample - loss: 0.3374 - accuracy: 0.8631\n",
      "Epoch 28/200\n",
      "8000/8000 [==============================] - 0s 32us/sample - loss: 0.3369 - accuracy: 0.8620\n",
      "Epoch 29/200\n",
      "8000/8000 [==============================] - 0s 35us/sample - loss: 0.3373 - accuracy: 0.8631\n",
      "Epoch 30/200\n",
      "8000/8000 [==============================] - 0s 62us/sample - loss: 0.3370 - accuracy: 0.8608\n",
      "Epoch 31/200\n",
      "8000/8000 [==============================] - 0s 34us/sample - loss: 0.3366 - accuracy: 0.8616\n",
      "Epoch 32/200\n",
      "8000/8000 [==============================] - 0s 56us/sample - loss: 0.3369 - accuracy: 0.8634\n",
      "Epoch 33/200\n",
      "8000/8000 [==============================] - 1s 77us/sample - loss: 0.3371 - accuracy: 0.8624\n",
      "Epoch 34/200\n",
      "8000/8000 [==============================] - 0s 58us/sample - loss: 0.3364 - accuracy: 0.8631\n",
      "Epoch 35/200\n",
      "8000/8000 [==============================] - 0s 35us/sample - loss: 0.3370 - accuracy: 0.8633\n",
      "Epoch 36/200\n",
      "8000/8000 [==============================] - 0s 61us/sample - loss: 0.3363 - accuracy: 0.8625\n",
      "Epoch 37/200\n",
      "8000/8000 [==============================] - 0s 60us/sample - loss: 0.3365 - accuracy: 0.8601\n",
      "Epoch 38/200\n",
      "8000/8000 [==============================] - 1s 69us/sample - loss: 0.3363 - accuracy: 0.8618\n",
      "Epoch 39/200\n",
      "8000/8000 [==============================] - 0s 49us/sample - loss: 0.3356 - accuracy: 0.8610\n",
      "Epoch 40/200\n",
      "8000/8000 [==============================] - 0s 33us/sample - loss: 0.3362 - accuracy: 0.8625\n",
      "Epoch 41/200\n",
      "8000/8000 [==============================] - 0s 33us/sample - loss: 0.3360 - accuracy: 0.8619\n",
      "Epoch 42/200\n",
      "8000/8000 [==============================] - 0s 32us/sample - loss: 0.3358 - accuracy: 0.8604\n",
      "Epoch 43/200\n",
      "8000/8000 [==============================] - 0s 32us/sample - loss: 0.3375 - accuracy: 0.8619\n",
      "Epoch 44/200\n",
      "8000/8000 [==============================] - 0s 32us/sample - loss: 0.3354 - accuracy: 0.8624\n",
      "Epoch 45/200\n",
      "8000/8000 [==============================] - 0s 34us/sample - loss: 0.3364 - accuracy: 0.8620\n",
      "Epoch 46/200\n",
      "8000/8000 [==============================] - 0s 32us/sample - loss: 0.3354 - accuracy: 0.8611\n",
      "Epoch 47/200\n",
      "8000/8000 [==============================] - 0s 34us/sample - loss: 0.3353 - accuracy: 0.8596\n",
      "Epoch 48/200\n",
      "8000/8000 [==============================] - 0s 33us/sample - loss: 0.3352 - accuracy: 0.8612\n",
      "Epoch 49/200\n",
      "8000/8000 [==============================] - 0s 33us/sample - loss: 0.3352 - accuracy: 0.8619\n",
      "Epoch 50/200\n",
      "8000/8000 [==============================] - 0s 34us/sample - loss: 0.3353 - accuracy: 0.8624\n",
      "Epoch 51/200\n",
      "8000/8000 [==============================] - 0s 33us/sample - loss: 0.3359 - accuracy: 0.8616\n",
      "Epoch 52/200\n",
      "8000/8000 [==============================] - 0s 34us/sample - loss: 0.3349 - accuracy: 0.8619\n",
      "Epoch 53/200\n",
      "8000/8000 [==============================] - 0s 33us/sample - loss: 0.3353 - accuracy: 0.8660\n",
      "Epoch 54/200\n",
      "8000/8000 [==============================] - 0s 34us/sample - loss: 0.3349 - accuracy: 0.8608\n",
      "Epoch 55/200\n",
      "8000/8000 [==============================] - 0s 31us/sample - loss: 0.3348 - accuracy: 0.8612\n",
      "Epoch 56/200\n",
      "8000/8000 [==============================] - 0s 32us/sample - loss: 0.3350 - accuracy: 0.8625\n",
      "Epoch 57/200\n",
      "8000/8000 [==============================] - 0s 31us/sample - loss: 0.3349 - accuracy: 0.8620\n",
      "Epoch 58/200\n",
      "8000/8000 [==============================] - 0s 32us/sample - loss: 0.3347 - accuracy: 0.8614\n",
      "Epoch 59/200\n",
      "8000/8000 [==============================] - 0s 32us/sample - loss: 0.3346 - accuracy: 0.8619\n",
      "Epoch 60/200\n",
      "8000/8000 [==============================] - 0s 32us/sample - loss: 0.3362 - accuracy: 0.8619\n",
      "Epoch 61/200\n",
      "8000/8000 [==============================] - 0s 32us/sample - loss: 0.3348 - accuracy: 0.8619\n",
      "Epoch 62/200\n",
      "8000/8000 [==============================] - 0s 32us/sample - loss: 0.3345 - accuracy: 0.8631\n",
      "Epoch 63/200\n",
      "8000/8000 [==============================] - 0s 31us/sample - loss: 0.3344 - accuracy: 0.8624\n",
      "Epoch 64/200\n",
      "8000/8000 [==============================] - 0s 40us/sample - loss: 0.3342 - accuracy: 0.8631\n",
      "Epoch 65/200\n",
      "8000/8000 [==============================] - 0s 31us/sample - loss: 0.3344 - accuracy: 0.8614\n",
      "Epoch 66/200\n",
      "8000/8000 [==============================] - 0s 32us/sample - loss: 0.3337 - accuracy: 0.8640\n",
      "Epoch 67/200\n",
      "8000/8000 [==============================] - 0s 32us/sample - loss: 0.3341 - accuracy: 0.8636\n",
      "Epoch 68/200\n",
      "8000/8000 [==============================] - 0s 32us/sample - loss: 0.3338 - accuracy: 0.8622\n",
      "Epoch 69/200\n",
      "8000/8000 [==============================] - 0s 32us/sample - loss: 0.3340 - accuracy: 0.8633\n",
      "Epoch 70/200\n",
      "8000/8000 [==============================] - 0s 32us/sample - loss: 0.3331 - accuracy: 0.8636\n",
      "Epoch 71/200\n",
      "8000/8000 [==============================] - 0s 34us/sample - loss: 0.3341 - accuracy: 0.8619\n",
      "Epoch 72/200\n",
      "8000/8000 [==============================] - 0s 33us/sample - loss: 0.3340 - accuracy: 0.8633\n",
      "Epoch 73/200\n",
      "8000/8000 [==============================] - 0s 32us/sample - loss: 0.3336 - accuracy: 0.8627\n",
      "Epoch 74/200\n",
      "8000/8000 [==============================] - 0s 32us/sample - loss: 0.3339 - accuracy: 0.8637\n",
      "Epoch 75/200\n",
      "8000/8000 [==============================] - 0s 33us/sample - loss: 0.3334 - accuracy: 0.8626\n",
      "Epoch 76/200\n",
      "8000/8000 [==============================] - 0s 33us/sample - loss: 0.3329 - accuracy: 0.8630\n",
      "Epoch 77/200\n"
     ]
    },
    {
     "name": "stdout",
     "output_type": "stream",
     "text": [
      "8000/8000 [==============================] - 0s 31us/sample - loss: 0.3336 - accuracy: 0.8626\n",
      "Epoch 78/200\n",
      "8000/8000 [==============================] - 0s 30us/sample - loss: 0.3329 - accuracy: 0.8622\n",
      "Epoch 79/200\n",
      "8000/8000 [==============================] - 0s 31us/sample - loss: 0.3325 - accuracy: 0.8629\n",
      "Epoch 80/200\n",
      "8000/8000 [==============================] - 0s 30us/sample - loss: 0.3333 - accuracy: 0.8645\n",
      "Epoch 81/200\n",
      "8000/8000 [==============================] - 0s 30us/sample - loss: 0.3331 - accuracy: 0.8648\n",
      "Epoch 82/200\n",
      "8000/8000 [==============================] - 0s 31us/sample - loss: 0.3328 - accuracy: 0.8615\n",
      "Epoch 83/200\n",
      "8000/8000 [==============================] - 0s 31us/sample - loss: 0.3329 - accuracy: 0.8636\n",
      "Epoch 84/200\n",
      "8000/8000 [==============================] - 0s 30us/sample - loss: 0.3325 - accuracy: 0.8640\n",
      "Epoch 85/200\n",
      "8000/8000 [==============================] - 0s 31us/sample - loss: 0.3330 - accuracy: 0.8645\n",
      "Epoch 86/200\n",
      "8000/8000 [==============================] - 0s 31us/sample - loss: 0.3321 - accuracy: 0.8634\n",
      "Epoch 87/200\n",
      "8000/8000 [==============================] - 0s 31us/sample - loss: 0.3326 - accuracy: 0.8636\n",
      "Epoch 88/200\n",
      "8000/8000 [==============================] - 0s 31us/sample - loss: 0.3331 - accuracy: 0.8639\n",
      "Epoch 89/200\n",
      "8000/8000 [==============================] - 0s 31us/sample - loss: 0.3324 - accuracy: 0.8646\n",
      "Epoch 90/200\n",
      "8000/8000 [==============================] - 0s 35us/sample - loss: 0.3327 - accuracy: 0.8643\n",
      "Epoch 91/200\n",
      "8000/8000 [==============================] - 0s 35us/sample - loss: 0.3325 - accuracy: 0.8637\n",
      "Epoch 92/200\n",
      "8000/8000 [==============================] - 0s 33us/sample - loss: 0.3321 - accuracy: 0.8645\n",
      "Epoch 93/200\n",
      "8000/8000 [==============================] - 0s 40us/sample - loss: 0.3326 - accuracy: 0.8637\n",
      "Epoch 94/200\n",
      "8000/8000 [==============================] - 0s 38us/sample - loss: 0.3319 - accuracy: 0.8661\n",
      "Epoch 95/200\n",
      "8000/8000 [==============================] - 0s 44us/sample - loss: 0.3320 - accuracy: 0.8644\n",
      "Epoch 96/200\n",
      "8000/8000 [==============================] - 0s 54us/sample - loss: 0.3318 - accuracy: 0.8636\n",
      "Epoch 97/200\n",
      "8000/8000 [==============================] - 0s 56us/sample - loss: 0.3322 - accuracy: 0.8636\n",
      "Epoch 98/200\n",
      "8000/8000 [==============================] - 0s 55us/sample - loss: 0.3328 - accuracy: 0.8640\n",
      "Epoch 99/200\n",
      "8000/8000 [==============================] - 0s 61us/sample - loss: 0.3317 - accuracy: 0.8637\n",
      "Epoch 100/200\n",
      "8000/8000 [==============================] - 0s 48us/sample - loss: 0.3318 - accuracy: 0.8646\n",
      "Epoch 101/200\n",
      "8000/8000 [==============================] - 0s 47us/sample - loss: 0.3317 - accuracy: 0.8633\n",
      "Epoch 102/200\n",
      "8000/8000 [==============================] - 0s 48us/sample - loss: 0.3321 - accuracy: 0.8646\n",
      "Epoch 103/200\n",
      "8000/8000 [==============================] - 0s 46us/sample - loss: 0.3314 - accuracy: 0.8659\n",
      "Epoch 104/200\n",
      "8000/8000 [==============================] - 0s 33us/sample - loss: 0.3321 - accuracy: 0.8646\n",
      "Epoch 105/200\n",
      "8000/8000 [==============================] - 0s 31us/sample - loss: 0.3321 - accuracy: 0.8640\n",
      "Epoch 106/200\n",
      "8000/8000 [==============================] - 0s 31us/sample - loss: 0.3314 - accuracy: 0.8641\n",
      "Epoch 107/200\n",
      "8000/8000 [==============================] - 0s 31us/sample - loss: 0.3315 - accuracy: 0.8630\n",
      "Epoch 108/200\n",
      "8000/8000 [==============================] - 0s 32us/sample - loss: 0.3312 - accuracy: 0.8649\n",
      "Epoch 109/200\n",
      "8000/8000 [==============================] - 0s 31us/sample - loss: 0.3316 - accuracy: 0.8626\n",
      "Epoch 110/200\n",
      "8000/8000 [==============================] - 0s 32us/sample - loss: 0.3314 - accuracy: 0.8646\n",
      "Epoch 111/200\n",
      "8000/8000 [==============================] - 0s 35us/sample - loss: 0.3312 - accuracy: 0.8660\n",
      "Epoch 112/200\n",
      "8000/8000 [==============================] - 0s 36us/sample - loss: 0.3315 - accuracy: 0.8664\n",
      "Epoch 113/200\n",
      "8000/8000 [==============================] - 0s 34us/sample - loss: 0.3315 - accuracy: 0.8655\n",
      "Epoch 114/200\n",
      "8000/8000 [==============================] - 0s 58us/sample - loss: 0.3313 - accuracy: 0.8643\n",
      "Epoch 115/200\n",
      "8000/8000 [==============================] - 0s 55us/sample - loss: 0.3311 - accuracy: 0.8656\n",
      "Epoch 116/200\n",
      "8000/8000 [==============================] - 0s 45us/sample - loss: 0.3308 - accuracy: 0.8646\n",
      "Epoch 117/200\n",
      "8000/8000 [==============================] - 0s 52us/sample - loss: 0.3310 - accuracy: 0.8646\n",
      "Epoch 118/200\n",
      "8000/8000 [==============================] - 0s 46us/sample - loss: 0.3312 - accuracy: 0.8646\n",
      "Epoch 119/200\n",
      "8000/8000 [==============================] - 0s 40us/sample - loss: 0.3306 - accuracy: 0.8643\n",
      "Epoch 120/200\n",
      "8000/8000 [==============================] - 0s 35us/sample - loss: 0.3311 - accuracy: 0.8649\n",
      "Epoch 121/200\n",
      "8000/8000 [==============================] - 0s 34us/sample - loss: 0.3308 - accuracy: 0.8661\n",
      "Epoch 122/200\n",
      "8000/8000 [==============================] - 0s 54us/sample - loss: 0.3303 - accuracy: 0.8633\n",
      "Epoch 123/200\n",
      "8000/8000 [==============================] - 0s 39us/sample - loss: 0.3310 - accuracy: 0.8633\n",
      "Epoch 124/200\n",
      "8000/8000 [==============================] - 0s 46us/sample - loss: 0.3315 - accuracy: 0.8645\n",
      "Epoch 125/200\n",
      "8000/8000 [==============================] - 0s 59us/sample - loss: 0.3309 - accuracy: 0.8637\n",
      "Epoch 126/200\n",
      "8000/8000 [==============================] - 0s 38us/sample - loss: 0.3312 - accuracy: 0.8635\n",
      "Epoch 127/200\n",
      "8000/8000 [==============================] - 0s 34us/sample - loss: 0.3308 - accuracy: 0.8633\n",
      "Epoch 128/200\n",
      "8000/8000 [==============================] - 0s 35us/sample - loss: 0.3303 - accuracy: 0.8644\n",
      "Epoch 129/200\n",
      "8000/8000 [==============================] - 0s 35us/sample - loss: 0.3307 - accuracy: 0.8666\n",
      "Epoch 130/200\n",
      "8000/8000 [==============================] - 0s 34us/sample - loss: 0.3307 - accuracy: 0.8639\n",
      "Epoch 131/200\n",
      "8000/8000 [==============================] - 0s 32us/sample - loss: 0.3309 - accuracy: 0.8681\n",
      "Epoch 132/200\n",
      "8000/8000 [==============================] - 0s 32us/sample - loss: 0.3306 - accuracy: 0.8655\n",
      "Epoch 133/200\n",
      "8000/8000 [==============================] - 0s 36us/sample - loss: 0.3302 - accuracy: 0.8650\n",
      "Epoch 134/200\n",
      "8000/8000 [==============================] - 0s 33us/sample - loss: 0.3312 - accuracy: 0.8626\n",
      "Epoch 135/200\n",
      "8000/8000 [==============================] - 0s 31us/sample - loss: 0.3302 - accuracy: 0.8658\n",
      "Epoch 136/200\n",
      "8000/8000 [==============================] - 0s 35us/sample - loss: 0.3308 - accuracy: 0.8654\n",
      "Epoch 137/200\n",
      "8000/8000 [==============================] - 0s 37us/sample - loss: 0.3309 - accuracy: 0.8649\n",
      "Epoch 138/200\n",
      "8000/8000 [==============================] - 0s 36us/sample - loss: 0.3302 - accuracy: 0.8658\n",
      "Epoch 139/200\n",
      "8000/8000 [==============================] - 0s 36us/sample - loss: 0.3305 - accuracy: 0.8655\n",
      "Epoch 140/200\n",
      "8000/8000 [==============================] - 0s 39us/sample - loss: 0.3298 - accuracy: 0.8650\n",
      "Epoch 141/200\n",
      "8000/8000 [==============================] - 0s 41us/sample - loss: 0.3301 - accuracy: 0.8651\n",
      "Epoch 142/200\n",
      "8000/8000 [==============================] - 0s 45us/sample - loss: 0.3301 - accuracy: 0.8648\n",
      "Epoch 143/200\n",
      "8000/8000 [==============================] - 0s 44us/sample - loss: 0.3303 - accuracy: 0.8658\n",
      "Epoch 144/200\n",
      "8000/8000 [==============================] - 0s 35us/sample - loss: 0.3308 - accuracy: 0.8645\n",
      "Epoch 145/200\n",
      "8000/8000 [==============================] - 0s 32us/sample - loss: 0.3296 - accuracy: 0.8661\n",
      "Epoch 146/200\n",
      "8000/8000 [==============================] - 0s 31us/sample - loss: 0.3306 - accuracy: 0.8641\n",
      "Epoch 147/200\n",
      "8000/8000 [==============================] - 0s 33us/sample - loss: 0.3299 - accuracy: 0.8627\n",
      "Epoch 148/200\n",
      "8000/8000 [==============================] - 0s 32us/sample - loss: 0.3303 - accuracy: 0.8646\n",
      "Epoch 149/200\n",
      "8000/8000 [==============================] - 0s 32us/sample - loss: 0.3305 - accuracy: 0.8637\n",
      "Epoch 150/200\n",
      "8000/8000 [==============================] - 0s 32us/sample - loss: 0.3301 - accuracy: 0.8641\n",
      "Epoch 151/200\n",
      "8000/8000 [==============================] - 0s 32us/sample - loss: 0.3297 - accuracy: 0.8655\n",
      "Epoch 152/200\n",
      "8000/8000 [==============================] - 0s 32us/sample - loss: 0.3301 - accuracy: 0.8648\n",
      "Epoch 153/200\n"
     ]
    },
    {
     "name": "stdout",
     "output_type": "stream",
     "text": [
      "8000/8000 [==============================] - 0s 31us/sample - loss: 0.3298 - accuracy: 0.8641\n",
      "Epoch 154/200\n",
      "8000/8000 [==============================] - 0s 30us/sample - loss: 0.3297 - accuracy: 0.8655\n",
      "Epoch 155/200\n",
      "8000/8000 [==============================] - 0s 31us/sample - loss: 0.3303 - accuracy: 0.8651\n",
      "Epoch 156/200\n",
      "8000/8000 [==============================] - 0s 30us/sample - loss: 0.3304 - accuracy: 0.8637\n",
      "Epoch 157/200\n",
      "8000/8000 [==============================] - 0s 31us/sample - loss: 0.3299 - accuracy: 0.8645\n",
      "Epoch 158/200\n",
      "8000/8000 [==============================] - 0s 30us/sample - loss: 0.3303 - accuracy: 0.8644\n",
      "Epoch 159/200\n",
      "8000/8000 [==============================] - 0s 32us/sample - loss: 0.3298 - accuracy: 0.8652\n",
      "Epoch 160/200\n",
      "8000/8000 [==============================] - 0s 30us/sample - loss: 0.3293 - accuracy: 0.8668\n",
      "Epoch 161/200\n",
      "8000/8000 [==============================] - 0s 31us/sample - loss: 0.3302 - accuracy: 0.8641\n",
      "Epoch 162/200\n",
      "8000/8000 [==============================] - 0s 30us/sample - loss: 0.3299 - accuracy: 0.8655\n",
      "Epoch 163/200\n",
      "8000/8000 [==============================] - 0s 31us/sample - loss: 0.3298 - accuracy: 0.8625\n",
      "Epoch 164/200\n",
      "8000/8000 [==============================] - 0s 30us/sample - loss: 0.3296 - accuracy: 0.8664\n",
      "Epoch 165/200\n",
      "8000/8000 [==============================] - 0s 30us/sample - loss: 0.3298 - accuracy: 0.8634\n",
      "Epoch 166/200\n",
      "8000/8000 [==============================] - 0s 31us/sample - loss: 0.3296 - accuracy: 0.8649\n",
      "Epoch 167/200\n",
      "8000/8000 [==============================] - 0s 31us/sample - loss: 0.3298 - accuracy: 0.8637\n",
      "Epoch 168/200\n",
      "8000/8000 [==============================] - 0s 30us/sample - loss: 0.3294 - accuracy: 0.8654\n",
      "Epoch 169/200\n",
      "8000/8000 [==============================] - 0s 30us/sample - loss: 0.3303 - accuracy: 0.8640\n",
      "Epoch 170/200\n",
      "8000/8000 [==============================] - 0s 31us/sample - loss: 0.3306 - accuracy: 0.8644\n",
      "Epoch 171/200\n",
      "8000/8000 [==============================] - 0s 31us/sample - loss: 0.3295 - accuracy: 0.8635\n",
      "Epoch 172/200\n",
      "8000/8000 [==============================] - 0s 30us/sample - loss: 0.3296 - accuracy: 0.8648\n",
      "Epoch 173/200\n",
      "8000/8000 [==============================] - 0s 30us/sample - loss: 0.3296 - accuracy: 0.8649\n",
      "Epoch 174/200\n",
      "8000/8000 [==============================] - 0s 31us/sample - loss: 0.3298 - accuracy: 0.8643\n",
      "Epoch 175/200\n",
      "8000/8000 [==============================] - 0s 31us/sample - loss: 0.3296 - accuracy: 0.8652\n",
      "Epoch 176/200\n",
      "8000/8000 [==============================] - 0s 30us/sample - loss: 0.3295 - accuracy: 0.8643\n",
      "Epoch 177/200\n",
      "8000/8000 [==============================] - 0s 30us/sample - loss: 0.3290 - accuracy: 0.8643\n",
      "Epoch 178/200\n",
      "8000/8000 [==============================] - 0s 30us/sample - loss: 0.3294 - accuracy: 0.8662\n",
      "Epoch 179/200\n",
      "8000/8000 [==============================] - 0s 32us/sample - loss: 0.3289 - accuracy: 0.8681\n",
      "Epoch 180/200\n",
      "8000/8000 [==============================] - 0s 30us/sample - loss: 0.3294 - accuracy: 0.8640\n",
      "Epoch 181/200\n",
      "8000/8000 [==============================] - 0s 30us/sample - loss: 0.3299 - accuracy: 0.8640\n",
      "Epoch 182/200\n",
      "8000/8000 [==============================] - 0s 30us/sample - loss: 0.3298 - accuracy: 0.8648\n",
      "Epoch 183/200\n",
      "8000/8000 [==============================] - 0s 30us/sample - loss: 0.3296 - accuracy: 0.8659\n",
      "Epoch 184/200\n",
      "8000/8000 [==============================] - 0s 35us/sample - loss: 0.3291 - accuracy: 0.8631\n",
      "Epoch 185/200\n",
      "8000/8000 [==============================] - 0s 31us/sample - loss: 0.3296 - accuracy: 0.8648\n",
      "Epoch 186/200\n",
      "8000/8000 [==============================] - 0s 31us/sample - loss: 0.3297 - accuracy: 0.8648\n",
      "Epoch 187/200\n",
      "8000/8000 [==============================] - 0s 34us/sample - loss: 0.3293 - accuracy: 0.8631\n",
      "Epoch 188/200\n",
      "8000/8000 [==============================] - 0s 35us/sample - loss: 0.3295 - accuracy: 0.8640\n",
      "Epoch 189/200\n",
      "8000/8000 [==============================] - 0s 31us/sample - loss: 0.3294 - accuracy: 0.8640\n",
      "Epoch 190/200\n",
      "8000/8000 [==============================] - 0s 31us/sample - loss: 0.3303 - accuracy: 0.8654\n",
      "Epoch 191/200\n",
      "8000/8000 [==============================] - 0s 31us/sample - loss: 0.3294 - accuracy: 0.8656\n",
      "Epoch 192/200\n",
      "8000/8000 [==============================] - 0s 32us/sample - loss: 0.3291 - accuracy: 0.8664\n",
      "Epoch 193/200\n",
      "8000/8000 [==============================] - 0s 30us/sample - loss: 0.3299 - accuracy: 0.8651\n",
      "Epoch 194/200\n",
      "8000/8000 [==============================] - 0s 32us/sample - loss: 0.3295 - accuracy: 0.8640\n",
      "Epoch 195/200\n",
      "8000/8000 [==============================] - 0s 35us/sample - loss: 0.3292 - accuracy: 0.8659\n",
      "Epoch 196/200\n",
      "8000/8000 [==============================] - 0s 39us/sample - loss: 0.3295 - accuracy: 0.8650\n",
      "Epoch 197/200\n",
      "8000/8000 [==============================] - 0s 33us/sample - loss: 0.3295 - accuracy: 0.8650\n",
      "Epoch 198/200\n",
      "8000/8000 [==============================] - 0s 45us/sample - loss: 0.3299 - accuracy: 0.8627\n",
      "Epoch 199/200\n",
      "8000/8000 [==============================] - 0s 32us/sample - loss: 0.3298 - accuracy: 0.8636\n",
      "Epoch 200/200\n",
      "8000/8000 [==============================] - 0s 40us/sample - loss: 0.3294 - accuracy: 0.8640\n"
     ]
    },
    {
     "data": {
      "text/plain": [
       "<tensorflow.python.keras.callbacks.History at 0x249db9ce0c8>"
      ]
     },
     "execution_count": 29,
     "metadata": {},
     "output_type": "execute_result"
    }
   ],
   "source": [
    "#Training the ann on training set\n",
    "ann.fit(X_train, Y_train, batch_size = 64, epochs = 200)\n"
   ]
  },
  {
   "cell_type": "markdown",
   "metadata": {},
   "source": [
    "## Making the prediction and evaluating"
   ]
  },
  {
   "cell_type": "code",
   "execution_count": 30,
   "metadata": {},
   "outputs": [
    {
     "data": {
      "text/plain": [
       "array([[0.02709289]], dtype=float32)"
      ]
     },
     "execution_count": 30,
     "metadata": {},
     "output_type": "execute_result"
    }
   ],
   "source": [
    "ann.predict(sc.transform([[1,0,0,600,1,40,3,60000,2,1,1,50000]]))"
   ]
  },
  {
   "cell_type": "code",
   "execution_count": 32,
   "metadata": {},
   "outputs": [
    {
     "name": "stdout",
     "output_type": "stream",
     "text": [
      "[[0 0]\n",
      " [0 1]\n",
      " [0 0]\n",
      " ...\n",
      " [0 0]\n",
      " [0 0]\n",
      " [0 0]]\n"
     ]
    }
   ],
   "source": [
    "#predicting the test set result\n",
    "Y_pred = ann.predict(X_test)\n",
    "Y_pred = (Y_pred > 0.5)\n",
    "print(np.concatenate((Y_pred.reshape(len(Y_pred),1), Y_test.reshape(len(Y_test),1)),1))"
   ]
  },
  {
   "cell_type": "code",
   "execution_count": 35,
   "metadata": {},
   "outputs": [
    {
     "name": "stdout",
     "output_type": "stream",
     "text": [
      "[[1504   91]\n",
      " [ 199  206]]\n"
     ]
    },
    {
     "data": {
      "text/plain": [
       "0.855"
      ]
     },
     "execution_count": 35,
     "metadata": {},
     "output_type": "execute_result"
    }
   ],
   "source": [
    "from sklearn.metrics import confusion_matrix, accuracy_score\n",
    "cm =confusion_matrix(Y_test, Y_pred)\n",
    "print(cm)\n",
    "accuracy_score(Y_test, Y_pred)"
   ]
  },
  {
   "cell_type": "code",
   "execution_count": null,
   "metadata": {},
   "outputs": [],
   "source": []
  },
  {
   "cell_type": "code",
   "execution_count": null,
   "metadata": {},
   "outputs": [],
   "source": []
  }
 ],
 "metadata": {
  "kernelspec": {
   "display_name": "Python 3",
   "language": "python",
   "name": "python3"
  },
  "language_info": {
   "codemirror_mode": {
    "name": "ipython",
    "version": 3
   },
   "file_extension": ".py",
   "mimetype": "text/x-python",
   "name": "python",
   "nbconvert_exporter": "python",
   "pygments_lexer": "ipython3",
   "version": "3.7.9"
  }
 },
 "nbformat": 4,
 "nbformat_minor": 4
}
